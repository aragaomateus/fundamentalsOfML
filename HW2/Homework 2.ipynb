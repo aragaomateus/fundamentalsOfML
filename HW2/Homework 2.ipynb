{
 "cells": [
  {
   "attachments": {},
   "cell_type": "markdown",
   "metadata": {},
   "source": [
    "# Homework 2\n"
   ]
  },
  {
   "cell_type": "markdown",
   "metadata": {},
   "source": []
  },
  {
   "attachments": {},
   "cell_type": "markdown",
   "metadata": {},
   "source": [
    "## Description:"
   ]
  },
  {
   "attachments": {},
   "cell_type": "markdown",
   "metadata": {},
   "source": [
    "Columns represent (in order):\n",
    "1) Company where they work\n",
    "2) Job title\n",
    "3) Office location\n",
    "4) Total annual compensation (in $)\n",
    "5) Base salary (in $)\n",
    "6) Value of stock grants (in $)\n",
    "7) Bonus payments (in $)\n",
    "8) Years of relevant experience (in years)\n",
    "9) Time with this company (in years)\n",
    "10) Gender (self-reported)\n",
    "11) Terminal Degree is Masters (1 = yes)\n",
    "12) Terminal Degree is Bachelors (1 = yes)\n",
    "13) Terminal Degree is Doctorate (1 = yes)\n",
    "14) Terminal Degree is High School (1 = yes)\n",
    "15) Terminal Degree is some college (1 = yes)\n",
    "16) Self-identifies as Asian (1 = yes)\n",
    "17) Self-identifies as White (1 = yes)\n",
    "18) Self-identifies as Multi-Racial (1 = yes)\n",
    "19) Self-identifies as Black (1 = yes)\n",
    "20) Self-identifies as Hispanic (1 = yes)\n",
    "21) Race as a qualitative variable\n",
    "22) Education as a qualitative variable\n",
    "23) Age (in years)\n",
    "24) Height (in inches)\n",
    "25) Zodiac sign (Tropical calendar, 1 = Aries, 12 = Pisces, with everything else in between)\n",
    "26) SAT score\n",
    "27) GPA\n",
    "We/you will want to use most of these variables in prediction models.\n",
    "This data is self-reported, so sometimes it will be missing if the person (for whatever reason) did not provide this information. For instance, the information on education (variables 11-15) is only meaningfully interpretable for any given row, if the corresponding value in variable 22 is not “NA”. NA indicates missing data. The same is true for variables 16 to 21."
   ]
  },
  {
   "attachments": {},
   "cell_type": "markdown",
   "metadata": {},
   "source": [
    "## Loading the data:"
   ]
  },
  {
   "cell_type": "code",
   "execution_count": 25,
   "metadata": {},
   "outputs": [],
   "source": [
    "import pandas as pd\n",
    "import numpy as np\n",
    "from sklearn.preprocessing import MinMaxScaler\n",
    "from sklearn.preprocessing import LabelEncoder\n",
    "import matplotlib.pyplot as plt\n",
    "from sklearn.linear_model import LinearRegression\n",
    "from sklearn.metrics import r2_score\n",
    "from sklearn.linear_model import Ridge\n",
    "from sklearn.model_selection import train_test_split\n",
    "from sklearn.metrics import mean_squared_error\n",
    "\n",
    "import warnings\n",
    "warnings.filterwarnings('ignore')\n",
    "data = pd.read_csv(\"techSalaries2017.csv\")"
   ]
  },
  {
   "attachments": {},
   "cell_type": "markdown",
   "metadata": {},
   "source": [
    "## Data Cleaning/Engineering:"
   ]
  },
  {
   "cell_type": "code",
   "execution_count": 26,
   "metadata": {},
   "outputs": [],
   "source": [
    "data.head(10)\n",
    "data =data.drop(['basesalary','stockgrantvalue','bonus','Zodiac'],axis =1)\n",
    "main_data = data"
   ]
  },
  {
   "cell_type": "code",
   "execution_count": 27,
   "metadata": {},
   "outputs": [
    {
     "name": "stdout",
     "output_type": "stream",
     "text": [
      "Male                               35702\n",
      "Female                              6999\n",
      "Other                                400\n",
      "Title: Senior Software Engineer        1\n",
      "Name: gender, dtype: int64\n",
      "Asian          11772\n",
      "White           8032\n",
      "Hispanic        1129\n",
      "Two Or More      804\n",
      "Black            690\n",
      "Name: Race, dtype: int64\n"
     ]
    }
   ],
   "source": [
    "print(data.gender.value_counts())\n",
    "print(data.Race.value_counts())\n",
    "data['company'] = data['company'].str.upper()\n",
    "data['title'] = data['title'].str.upper()\n",
    "data['location'] = data['location'].str.upper()\n",
    "\n",
    "# dropping rows with nan for company name, \n",
    "# I believe this predictor influences the predictions a lot\n",
    "data = data[data['company'].notna()]\n",
    "\n",
    "\n"
   ]
  },
  {
   "cell_type": "code",
   "execution_count": 28,
   "metadata": {},
   "outputs": [
    {
     "data": {
      "text/html": [
       "<div>\n",
       "<style scoped>\n",
       "    .dataframe tbody tr th:only-of-type {\n",
       "        vertical-align: middle;\n",
       "    }\n",
       "\n",
       "    .dataframe tbody tr th {\n",
       "        vertical-align: top;\n",
       "    }\n",
       "\n",
       "    .dataframe thead th {\n",
       "        text-align: right;\n",
       "    }\n",
       "</style>\n",
       "<table border=\"1\" class=\"dataframe\">\n",
       "  <thead>\n",
       "    <tr style=\"text-align: right;\">\n",
       "      <th></th>\n",
       "      <th>company</th>\n",
       "      <th>title</th>\n",
       "      <th>location</th>\n",
       "      <th>totalyearlycompensation</th>\n",
       "      <th>yearsofexperience</th>\n",
       "      <th>yearsatcompany</th>\n",
       "      <th>gender</th>\n",
       "      <th>Masters_Degree</th>\n",
       "      <th>Bachelors_Degree</th>\n",
       "      <th>Doctorate_Degree</th>\n",
       "      <th>...</th>\n",
       "      <th>Race_White</th>\n",
       "      <th>Race_Two_Or_More</th>\n",
       "      <th>Race_Black</th>\n",
       "      <th>Race_Hispanic</th>\n",
       "      <th>Race</th>\n",
       "      <th>Education</th>\n",
       "      <th>Age</th>\n",
       "      <th>Height</th>\n",
       "      <th>SAT</th>\n",
       "      <th>GPA</th>\n",
       "    </tr>\n",
       "  </thead>\n",
       "  <tbody>\n",
       "    <tr>\n",
       "      <th>12066</th>\n",
       "      <td>VANGUARD</td>\n",
       "      <td>SOFTWARE ENGINEER</td>\n",
       "      <td>MALVERN, PA</td>\n",
       "      <td>80000</td>\n",
       "      <td>1.0</td>\n",
       "      <td>1.0</td>\n",
       "      <td>Male</td>\n",
       "      <td>0</td>\n",
       "      <td>0</td>\n",
       "      <td>0</td>\n",
       "      <td>...</td>\n",
       "      <td>0</td>\n",
       "      <td>0</td>\n",
       "      <td>0</td>\n",
       "      <td>0</td>\n",
       "      <td>NaN</td>\n",
       "      <td>NaN</td>\n",
       "      <td>33</td>\n",
       "      <td>72.006</td>\n",
       "      <td>1111</td>\n",
       "      <td>3.01</td>\n",
       "    </tr>\n",
       "    <tr>\n",
       "      <th>27940</th>\n",
       "      <td>ROBINHOOD</td>\n",
       "      <td>SOFTWARE ENGINEER</td>\n",
       "      <td>SAN FRANCISCO, CA</td>\n",
       "      <td>194000</td>\n",
       "      <td>0.0</td>\n",
       "      <td>0.0</td>\n",
       "      <td>NaN</td>\n",
       "      <td>0</td>\n",
       "      <td>0</td>\n",
       "      <td>0</td>\n",
       "      <td>...</td>\n",
       "      <td>0</td>\n",
       "      <td>0</td>\n",
       "      <td>0</td>\n",
       "      <td>0</td>\n",
       "      <td>NaN</td>\n",
       "      <td>NaN</td>\n",
       "      <td>38</td>\n",
       "      <td>65.164</td>\n",
       "      <td>1032</td>\n",
       "      <td>2.77</td>\n",
       "    </tr>\n",
       "    <tr>\n",
       "      <th>22031</th>\n",
       "      <td>AMAZON</td>\n",
       "      <td>SOFTWARE ENGINEER</td>\n",
       "      <td>SAN FRANCISCO, CA</td>\n",
       "      <td>330000</td>\n",
       "      <td>9.0</td>\n",
       "      <td>4.0</td>\n",
       "      <td>NaN</td>\n",
       "      <td>0</td>\n",
       "      <td>0</td>\n",
       "      <td>0</td>\n",
       "      <td>...</td>\n",
       "      <td>0</td>\n",
       "      <td>0</td>\n",
       "      <td>0</td>\n",
       "      <td>0</td>\n",
       "      <td>NaN</td>\n",
       "      <td>NaN</td>\n",
       "      <td>41</td>\n",
       "      <td>69.191</td>\n",
       "      <td>1178</td>\n",
       "      <td>3.23</td>\n",
       "    </tr>\n",
       "    <tr>\n",
       "      <th>17973</th>\n",
       "      <td>BLOOMBERG</td>\n",
       "      <td>SOFTWARE ENGINEERING MANAGER</td>\n",
       "      <td>NEW YORK, NY</td>\n",
       "      <td>357000</td>\n",
       "      <td>20.0</td>\n",
       "      <td>12.0</td>\n",
       "      <td>Male</td>\n",
       "      <td>1</td>\n",
       "      <td>0</td>\n",
       "      <td>0</td>\n",
       "      <td>...</td>\n",
       "      <td>0</td>\n",
       "      <td>0</td>\n",
       "      <td>0</td>\n",
       "      <td>0</td>\n",
       "      <td>NaN</td>\n",
       "      <td>Master's Degree</td>\n",
       "      <td>40</td>\n",
       "      <td>70.365</td>\n",
       "      <td>1151</td>\n",
       "      <td>3.07</td>\n",
       "    </tr>\n",
       "    <tr>\n",
       "      <th>37544</th>\n",
       "      <td>ZILLOW</td>\n",
       "      <td>SOFTWARE ENGINEERING MANAGER</td>\n",
       "      <td>IRVINE, CA</td>\n",
       "      <td>260000</td>\n",
       "      <td>20.0</td>\n",
       "      <td>5.0</td>\n",
       "      <td>Female</td>\n",
       "      <td>0</td>\n",
       "      <td>0</td>\n",
       "      <td>0</td>\n",
       "      <td>...</td>\n",
       "      <td>1</td>\n",
       "      <td>0</td>\n",
       "      <td>0</td>\n",
       "      <td>0</td>\n",
       "      <td>White</td>\n",
       "      <td>NaN</td>\n",
       "      <td>59</td>\n",
       "      <td>66.673</td>\n",
       "      <td>1089</td>\n",
       "      <td>2.81</td>\n",
       "    </tr>\n",
       "  </tbody>\n",
       "</table>\n",
       "<p>5 rows × 23 columns</p>\n",
       "</div>"
      ],
      "text/plain": [
       "         company                         title           location  \\\n",
       "12066   VANGUARD             SOFTWARE ENGINEER        MALVERN, PA   \n",
       "27940  ROBINHOOD             SOFTWARE ENGINEER  SAN FRANCISCO, CA   \n",
       "22031     AMAZON             SOFTWARE ENGINEER  SAN FRANCISCO, CA   \n",
       "17973  BLOOMBERG  SOFTWARE ENGINEERING MANAGER       NEW YORK, NY   \n",
       "37544     ZILLOW  SOFTWARE ENGINEERING MANAGER         IRVINE, CA   \n",
       "\n",
       "       totalyearlycompensation  yearsofexperience  yearsatcompany  gender  \\\n",
       "12066                    80000                1.0             1.0    Male   \n",
       "27940                   194000                0.0             0.0     NaN   \n",
       "22031                   330000                9.0             4.0     NaN   \n",
       "17973                   357000               20.0            12.0    Male   \n",
       "37544                   260000               20.0             5.0  Female   \n",
       "\n",
       "       Masters_Degree  Bachelors_Degree  Doctorate_Degree  ...  Race_White  \\\n",
       "12066               0                 0                 0  ...           0   \n",
       "27940               0                 0                 0  ...           0   \n",
       "22031               0                 0                 0  ...           0   \n",
       "17973               1                 0                 0  ...           0   \n",
       "37544               0                 0                 0  ...           1   \n",
       "\n",
       "       Race_Two_Or_More  Race_Black  Race_Hispanic   Race        Education  \\\n",
       "12066                 0           0              0    NaN              NaN   \n",
       "27940                 0           0              0    NaN              NaN   \n",
       "22031                 0           0              0    NaN              NaN   \n",
       "17973                 0           0              0    NaN  Master's Degree   \n",
       "37544                 0           0              0  White              NaN   \n",
       "\n",
       "       Age  Height   SAT   GPA  \n",
       "12066   33  72.006  1111  3.01  \n",
       "27940   38  65.164  1032  2.77  \n",
       "22031   41  69.191  1178  3.23  \n",
       "17973   40  70.365  1151  3.07  \n",
       "37544   59  66.673  1089  2.81  \n",
       "\n",
       "[5 rows x 23 columns]"
      ]
     },
     "execution_count": 28,
     "metadata": {},
     "output_type": "execute_result"
    }
   ],
   "source": [
    "data.sample(5)\n"
   ]
  },
  {
   "attachments": {},
   "cell_type": "markdown",
   "metadata": {},
   "source": [
    "### Encoding all categorical variables:"
   ]
  },
  {
   "cell_type": "code",
   "execution_count": 29,
   "metadata": {},
   "outputs": [],
   "source": [
    "le = LabelEncoder()\n",
    "data['company']  = le.fit_transform(data['company'])\n",
    "data['title']  = le.fit_transform(data['title'])\n",
    "data['location']  = le.fit_transform(data['location'])\n"
   ]
  },
  {
   "attachments": {},
   "cell_type": "markdown",
   "metadata": {},
   "source": [
    "### Rescalling features"
   ]
  },
  {
   "cell_type": "code",
   "execution_count": 175,
   "metadata": {},
   "outputs": [],
   "source": [
    "# normalizing the outcome variable\n",
    "# Assuming the column to be normalized is stored in a NumPy array X\n",
    "column_to_normalize = np.array(data['totalyearlycompensation'])  # Select the column you want to normalize\n",
    "scaler = MinMaxScaler()          # Create a MinMaxScaler object\n",
    "outcome = scaler.fit_transform(column_to_normalize.reshape(-1, 1))\n",
    "data['totalyearlycompensation']=outcome\n",
    "\n",
    "'''\n",
    "I had previously used these 3 variables until I read the hints,\n",
    "So I will abstain from them for the rest of the assignment. \n",
    "'''\n",
    "# column_to_normalize = np.array(data['company'])  # Select the column you want to normalize\n",
    "# data['company'] = scaler.fit_transform(column_to_normalize.reshape(-1, 1))\n",
    "\n",
    "# column_to_normalize = np.array(data['title'])  # Select the column you want to normalize\n",
    "# data['title'] = scaler.fit_transform(column_to_normalize.reshape(-1, 1))\n",
    "\n",
    "# column_to_normalize = np.array(data['location'])  # Select the column you want to normalize\n",
    "# data['location'] = scaler.fit_transform(column_to_normalize.reshape(-1, 1))\n",
    "\n",
    "column_to_normalize = np.array(data['yearsofexperience'])  # Select the column you want to normalize\n",
    "data['yearsofexperience'] = scaler.fit_transform(column_to_normalize.reshape(-1, 1))\n",
    "\n",
    "column_to_normalize = np.array(data['yearsatcompany'])  # Select the column you want to normalize\n",
    "data['yearsatcompany'] = scaler.fit_transform(column_to_normalize.reshape(-1, 1))\n",
    "# column_to_normalize = np.array(data['gender'])  # Select the column you want to normalize\n",
    "# data['gender'] = scaler.fit_transform(column_to_normalize.reshape(-1, 1))\n",
    "\n",
    "predictors = data.drop(['totalyearlycompensation',\"company\",'Race_White','Race_Black','Race_Two_Or_More','Race_Hispanic','gender','Race_Asian','Race','Education', 'company','title','location'],axis =1)\n"
   ]
  },
  {
   "cell_type": "code",
   "execution_count": 32,
   "metadata": {},
   "outputs": [
    {
     "data": {
      "text/html": [
       "<div>\n",
       "<style scoped>\n",
       "    .dataframe tbody tr th:only-of-type {\n",
       "        vertical-align: middle;\n",
       "    }\n",
       "\n",
       "    .dataframe tbody tr th {\n",
       "        vertical-align: top;\n",
       "    }\n",
       "\n",
       "    .dataframe thead th {\n",
       "        text-align: right;\n",
       "    }\n",
       "</style>\n",
       "<table border=\"1\" class=\"dataframe\">\n",
       "  <thead>\n",
       "    <tr style=\"text-align: right;\">\n",
       "      <th></th>\n",
       "      <th>company</th>\n",
       "      <th>title</th>\n",
       "      <th>location</th>\n",
       "      <th>totalyearlycompensation</th>\n",
       "      <th>yearsofexperience</th>\n",
       "      <th>yearsatcompany</th>\n",
       "      <th>gender</th>\n",
       "      <th>Masters_Degree</th>\n",
       "      <th>Bachelors_Degree</th>\n",
       "      <th>Doctorate_Degree</th>\n",
       "      <th>...</th>\n",
       "      <th>Race_White</th>\n",
       "      <th>Race_Two_Or_More</th>\n",
       "      <th>Race_Black</th>\n",
       "      <th>Race_Hispanic</th>\n",
       "      <th>Race</th>\n",
       "      <th>Education</th>\n",
       "      <th>Age</th>\n",
       "      <th>Height</th>\n",
       "      <th>SAT</th>\n",
       "      <th>GPA</th>\n",
       "    </tr>\n",
       "  </thead>\n",
       "  <tbody>\n",
       "    <tr>\n",
       "      <th>0</th>\n",
       "      <td>722</td>\n",
       "      <td>8</td>\n",
       "      <td>767</td>\n",
       "      <td>0.023541</td>\n",
       "      <td>0.021739</td>\n",
       "      <td>0.021739</td>\n",
       "      <td>NaN</td>\n",
       "      <td>0</td>\n",
       "      <td>0</td>\n",
       "      <td>0</td>\n",
       "      <td>...</td>\n",
       "      <td>0</td>\n",
       "      <td>0</td>\n",
       "      <td>0</td>\n",
       "      <td>0</td>\n",
       "      <td>NaN</td>\n",
       "      <td>NaN</td>\n",
       "      <td>38</td>\n",
       "      <td>68.590</td>\n",
       "      <td>829</td>\n",
       "      <td>2.13</td>\n",
       "    </tr>\n",
       "    <tr>\n",
       "      <th>1</th>\n",
       "      <td>331</td>\n",
       "      <td>11</td>\n",
       "      <td>823</td>\n",
       "      <td>0.018109</td>\n",
       "      <td>0.072464</td>\n",
       "      <td>0.043478</td>\n",
       "      <td>NaN</td>\n",
       "      <td>0</td>\n",
       "      <td>0</td>\n",
       "      <td>0</td>\n",
       "      <td>...</td>\n",
       "      <td>0</td>\n",
       "      <td>0</td>\n",
       "      <td>0</td>\n",
       "      <td>0</td>\n",
       "      <td>NaN</td>\n",
       "      <td>NaN</td>\n",
       "      <td>34</td>\n",
       "      <td>68.059</td>\n",
       "      <td>993</td>\n",
       "      <td>2.77</td>\n",
       "    </tr>\n",
       "    <tr>\n",
       "      <th>2</th>\n",
       "      <td>47</td>\n",
       "      <td>8</td>\n",
       "      <td>859</td>\n",
       "      <td>0.060362</td>\n",
       "      <td>0.115942</td>\n",
       "      <td>0.000000</td>\n",
       "      <td>NaN</td>\n",
       "      <td>0</td>\n",
       "      <td>0</td>\n",
       "      <td>0</td>\n",
       "      <td>...</td>\n",
       "      <td>0</td>\n",
       "      <td>0</td>\n",
       "      <td>0</td>\n",
       "      <td>0</td>\n",
       "      <td>NaN</td>\n",
       "      <td>NaN</td>\n",
       "      <td>42</td>\n",
       "      <td>61.343</td>\n",
       "      <td>1200</td>\n",
       "      <td>3.26</td>\n",
       "    </tr>\n",
       "    <tr>\n",
       "      <th>3</th>\n",
       "      <td>71</td>\n",
       "      <td>12</td>\n",
       "      <td>909</td>\n",
       "      <td>0.072837</td>\n",
       "      <td>0.101449</td>\n",
       "      <td>0.072464</td>\n",
       "      <td>NaN</td>\n",
       "      <td>0</td>\n",
       "      <td>0</td>\n",
       "      <td>0</td>\n",
       "      <td>...</td>\n",
       "      <td>0</td>\n",
       "      <td>0</td>\n",
       "      <td>0</td>\n",
       "      <td>0</td>\n",
       "      <td>NaN</td>\n",
       "      <td>NaN</td>\n",
       "      <td>28</td>\n",
       "      <td>66.495</td>\n",
       "      <td>1170</td>\n",
       "      <td>3.07</td>\n",
       "    </tr>\n",
       "    <tr>\n",
       "      <th>4</th>\n",
       "      <td>640</td>\n",
       "      <td>11</td>\n",
       "      <td>610</td>\n",
       "      <td>0.029577</td>\n",
       "      <td>0.072464</td>\n",
       "      <td>0.043478</td>\n",
       "      <td>NaN</td>\n",
       "      <td>0</td>\n",
       "      <td>0</td>\n",
       "      <td>0</td>\n",
       "      <td>...</td>\n",
       "      <td>0</td>\n",
       "      <td>0</td>\n",
       "      <td>0</td>\n",
       "      <td>0</td>\n",
       "      <td>NaN</td>\n",
       "      <td>NaN</td>\n",
       "      <td>34</td>\n",
       "      <td>69.015</td>\n",
       "      <td>1115</td>\n",
       "      <td>2.91</td>\n",
       "    </tr>\n",
       "  </tbody>\n",
       "</table>\n",
       "<p>5 rows × 23 columns</p>\n",
       "</div>"
      ],
      "text/plain": [
       "   company  title  location  totalyearlycompensation  yearsofexperience  \\\n",
       "0      722      8       767                 0.023541           0.021739   \n",
       "1      331     11       823                 0.018109           0.072464   \n",
       "2       47      8       859                 0.060362           0.115942   \n",
       "3       71     12       909                 0.072837           0.101449   \n",
       "4      640     11       610                 0.029577           0.072464   \n",
       "\n",
       "   yearsatcompany gender  Masters_Degree  Bachelors_Degree  Doctorate_Degree  \\\n",
       "0        0.021739    NaN               0                 0                 0   \n",
       "1        0.043478    NaN               0                 0                 0   \n",
       "2        0.000000    NaN               0                 0                 0   \n",
       "3        0.072464    NaN               0                 0                 0   \n",
       "4        0.043478    NaN               0                 0                 0   \n",
       "\n",
       "   ...  Race_White  Race_Two_Or_More  Race_Black  Race_Hispanic  Race  \\\n",
       "0  ...           0                 0           0              0   NaN   \n",
       "1  ...           0                 0           0              0   NaN   \n",
       "2  ...           0                 0           0              0   NaN   \n",
       "3  ...           0                 0           0              0   NaN   \n",
       "4  ...           0                 0           0              0   NaN   \n",
       "\n",
       "   Education  Age  Height   SAT   GPA  \n",
       "0        NaN   38  68.590   829  2.13  \n",
       "1        NaN   34  68.059   993  2.77  \n",
       "2        NaN   42  61.343  1200  3.26  \n",
       "3        NaN   28  66.495  1170  3.07  \n",
       "4        NaN   34  69.015  1115  2.91  \n",
       "\n",
       "[5 rows x 23 columns]"
      ]
     },
     "execution_count": 32,
     "metadata": {},
     "output_type": "execute_result"
    }
   ],
   "source": [
    "data.head(5)"
   ]
  },
  {
   "attachments": {},
   "cell_type": "markdown",
   "metadata": {},
   "source": [
    "## 1. Using multiple linear regression: What is the best predictor of total annual compensation, how much variance is explained by this predictor vs. the full multiple regression model?"
   ]
  },
  {
   "attachments": {},
   "cell_type": "markdown",
   "metadata": {},
   "source": [
    "### Answer: \n",
    "### On the preprocessing\n",
    "-  The variables 5 to 7 sounds to be directly related to the compensation and therefore might be irrelevant to predicting the total compensation. Example: someone with high total compensation might be more likely to be in a position with higher base salary, stock grants and bonuses. \n",
    "- Columns like Height, age and zodiac were disregarded because either they make no sense on the relation with yearly compensation or because they might be correlated with other variable alredy being taken into account. Exemple: Years of experience may be very correlated with the age -the older you are more experience you have-. Later on you the correlations table you will that its true. \n",
    "- Other columns were revomed because they had already been turned into categorical variables such as education and race. "
   ]
  },
  {
   "attachments": {},
   "cell_type": "markdown",
   "metadata": {},
   "source": [
    "### Checking for correlations\n",
    "-  Columns that were found to be highly correlated were removed. \n",
    "-  The correlation table and heatmap were useful for picking a best predictor. The best predictor chosen by me was the `yearsofexperience` column because it has the largest correlation coeficient with our target column `totalyearlycompensation`.\n",
    "- After looking for the least correlated variables for a second time,I also dropped columns associated with race. After that I saw a slightly increase on the the R^2 of both models. This was not documented but I observed it through a process of trial and error. "
   ]
  },
  {
   "cell_type": "code",
   "execution_count": 8,
   "metadata": {},
   "outputs": [
    {
     "data": {
      "image/png": "[encoded data removed]",
      "text/plain": [
       "<Figure size 576x432 with 2 Axes>"
      ]
     },
     "metadata": {
      "needs_background": "light"
     },
     "output_type": "display_data"
    }
   ],
   "source": [
    "df = pd.DataFrame(data)\n",
    "plt.figure(figsize=(8, 6))# get the correlation matrix\n",
    "corr = df.corr()\n",
    "\n",
    "# plot the correlation matrix using matplotlib\n",
    "plt.imshow(corr, cmap='coolwarm', interpolation='nearest')\n",
    "plt.colorbar()\n",
    "plt.xticks(range(len(corr)), corr.columns, rotation=90)\n",
    "plt.yticks(range(len(corr)), corr.columns)\n",
    "plt.show()"
   ]
  },
  {
   "cell_type": "code",
   "execution_count": 9,
   "metadata": {},
   "outputs": [
    {
     "data": {
      "text/plain": [
       "Bachelors_Degree          -0.139833\n",
       "Race_Asian                -0.080103\n",
       "company                   -0.030145\n",
       "Race_White                -0.027791\n",
       "Race_Black                -0.026748\n",
       "Race_Hispanic             -0.026024\n",
       "Highschool                -0.014836\n",
       "Race_Two_Or_More          -0.009629\n",
       "Some_College              -0.003384\n",
       "Height                    -0.001359\n",
       "Masters_Degree             0.018288\n",
       "title                      0.073268\n",
       "Doctorate_Degree           0.097173\n",
       "yearsatcompany             0.165774\n",
       "location                   0.196606\n",
       "Age                        0.264170\n",
       "GPA                        0.319253\n",
       "SAT                        0.349962\n",
       "yearsofexperience          0.422848\n",
       "totalyearlycompensation    1.000000\n",
       "Name: totalyearlycompensation, dtype: float64"
      ]
     },
     "execution_count": 9,
     "metadata": {},
     "output_type": "execute_result"
    }
   ],
   "source": [
    "corr.totalyearlycompensation.sort_values()"
   ]
  },
  {
   "attachments": {},
   "cell_type": "markdown",
   "metadata": {},
   "source": [
    "### Regressions\n",
    "-  Now comparing the 2 regressions. By definition R-squared (R2) is a value between 0 and 1 that represents the proportion of the variation in the dependent variable explained by the independent variables in a regression model. By comparing the 2 models R2 we can observe that the simple regression model using our best predictor `yearsofexperience` has explained around 18.5% of the varience on the dependable variable `totalyearlycompensation`. While our multiple regression model with handpicked predictors, have achieved an R2 of about .33 which means that this model has explained around 33% of the varience on our dependable variable.\n",
    "- One could argue that our multiple regression model is over fitting by having multiple predictors, but our RMSE has shown that not to be true.\n",
    "\n",
    "Simple Linear Regression:\n",
    "\n",
    "R-squared: 0.1846469238598084 RMSE: 0.0006212221234210354\n",
    "\n",
    "* Edited after review\n",
    "\n",
    "Multiple Linear Regression:\n",
    "\n",
    "Containing predictors title, company, and location\n",
    "R-squared: 0.3259203094713786 RMSE: 0.0005135851313488935\n",
    "\n",
    "without predictors title, company, and location\n",
    "R-squared: 0.2952100301269125 RMSE: 0.0005369834669945201\n",
    "\n",
    "- On the edited part: \n",
    "    - It is plausible that even though the model with the 3 extra categorical predictors is better, it may also be true that it over fits to the training data."
   ]
  },
  {
   "cell_type": "code",
   "execution_count": 35,
   "metadata": {},
   "outputs": [
    {
     "name": "stdout",
     "output_type": "stream",
     "text": [
      "R-squared: 0.1846469238598084 RMSE: 0.0006212221234210354\n"
     ]
    }
   ],
   "source": [
    "xTrain, xTest, yTrain, yTest = train_test_split(np.array(data['yearsofexperience']).reshape(-1, 1), outcome.reshape(-1,1), test_size=0.5, random_state=0)\n",
    "\n",
    "# create a regression object\n",
    "model = LinearRegression()\n",
    "\n",
    "# fit the model to your data\n",
    "model.fit(xTrain, yTrain)\n",
    "\n",
    "# predict the dependent variable\n",
    "y_pred = model.predict(xTest)\n",
    "\n",
    "# calculate R-squared\n",
    "r_squared = r2_score(yTest, y_pred)\n",
    "rmse = mean_squared_error(yTest,y_pred)\n",
    "\n",
    "print(\"R-squared:\", r_squared,\"RMSE:\",rmse )"
   ]
  },
  {
   "cell_type": "code",
   "execution_count": 36,
   "metadata": {},
   "outputs": [
    {
     "name": "stdout",
     "output_type": "stream",
     "text": [
      "R-squared: 0.2952100301269125 RMSE: 0.0005369834669945201\n"
     ]
    }
   ],
   "source": [
    "# create a regression object\n",
    "xTrain, xTest, yTrain, yTest = train_test_split(predictors, outcome.reshape(-1,1), test_size=0.5, random_state=0)\n",
    "\n",
    "model = LinearRegression()\n",
    "\n",
    "# fit the model to your data\n",
    "model.fit(xTrain, yTrain)\n",
    "\n",
    "# predict the dependent variable\n",
    "y_pred = model.predict(xTest)\n",
    "\n",
    "# calculate R-squared\n",
    "r_squared = r2_score(yTest, y_pred)\n",
    "rmse = mean_squared_error(yTest,y_pred)\n",
    "\n",
    "print(\"R-squared:\", r_squared,\"RMSE:\",rmse )"
   ]
  },
  {
   "attachments": {},
   "cell_type": "markdown",
   "metadata": {},
   "source": [
    "\n",
    "## 2. Using ridge regression to do the same as in 1): How does the model change or improve compared to OLS? What is the optimal lambda?"
   ]
  },
  {
   "attachments": {},
   "cell_type": "markdown",
   "metadata": {},
   "source": [
    "### Answer:\n",
    "\n",
    "Report:\n",
    "___________________________\n",
    "Simple Linear Regression:\n",
    "\n",
    "RMSE = 0.0006643937370673719 R^2 = 0.17520990973078954\n",
    "\n",
    "Optimal lambda: -5.199999999999999\n",
    "\n",
    "Multiplre Linear Regression:\n",
    "\n",
    "Optimal lambda: -4.074999999999999\n",
    "\n",
    "RMSE = 0.0005535932718914939 R^2= 0.3127595592468504\n",
    "__________________________\n",
    "\n",
    "Both models did change, but for the worst. I continued using the same random seed for the process of train split, so the models would be trained and the lambdas would be test on the same data as our original models on the question 1.\n",
    "\n",
    "Still, both Ridge Regression models are worst by a margin of ~1%. Meaning that both regularized models explain about ~1% less then our un-regularized models.\n",
    "\n",
    "\n",
    "\n",
    "\n",
    "\n",
    "\n",
    "\n"
   ]
  },
  {
   "attachments": {},
   "cell_type": "markdown",
   "metadata": {},
   "source": [
    "### Multiple Ridge Regression"
   ]
  },
  {
   "cell_type": "code",
   "execution_count": 37,
   "metadata": {},
   "outputs": [
    {
     "data": {
      "image/png": "[encoded data removed]",
      "text/plain": [
       "<Figure size 432x288 with 1 Axes>"
      ]
     },
     "metadata": {
      "needs_background": "light"
     },
     "output_type": "display_data"
    },
    {
     "name": "stdout",
     "output_type": "stream",
     "text": [
      "Optimal lambda: -2.9499999999999993\n"
     ]
    }
   ],
   "source": [
    "\n",
    "# Init parameters:\n",
    "seed = 0\n",
    "xTrain, xTest, yTrain, yTest = train_test_split(predictors, outcome.reshape(-1,1), test_size=0.2, random_state=seed)\n",
    "lambdas = np.linspace(-25,20,201)\n",
    "cont = np.empty([len(lambdas),2])*np.NaN # [lambda error]\n",
    "for ii in range(len(lambdas)):\n",
    "    ridgeModel = Ridge(alpha=lambdas[ii]).fit(xTrain, yTrain)\n",
    "    cont[ii,0] = lambdas[ii]\n",
    "    error = mean_squared_error(yTest,ridgeModel.predict(xTest),squared=False)\n",
    "    cont[ii,1] = error\n",
    "\n",
    "plt.plot(cont[:,0],cont[:,1])\n",
    "plt.xlabel('Lambda')\n",
    "plt.ylabel('RMSE')\n",
    "plt.title('Multiple Ridge regression')\n",
    "plt.show()\n",
    "optimal_lambda_multiple = lambdas[np.argmax(cont[:,1]==np.min(cont[:,1]))]\n",
    "print('Optimal lambda:',optimal_lambda_multiple)\n",
    "# multiple Ridge regression\n",
    "\n"
   ]
  },
  {
   "cell_type": "code",
   "execution_count": 38,
   "metadata": {},
   "outputs": [
    {
     "name": "stdout",
     "output_type": "stream",
     "text": [
      "0.0005762144715295082 0.28467720348324754\n"
     ]
    }
   ],
   "source": [
    "# multiple Ridge regression\n",
    "ridgeModel = Ridge(alpha=optimal_lambda_multiple).fit(xTrain, yTrain)\n",
    "error = mean_squared_error(yTest,ridgeModel.predict(xTest))\n",
    "r_squared = r2_score(yTest,ridgeModel.predict(xTest))\n",
    "print(error,r_squared)\n"
   ]
  },
  {
   "attachments": {},
   "cell_type": "markdown",
   "metadata": {},
   "source": [
    "### Single Ridge Regression"
   ]
  },
  {
   "cell_type": "code",
   "execution_count": 40,
   "metadata": {},
   "outputs": [
    {
     "data": {
      "image/png": "[encoded data removed]",
      "text/plain": [
       "<Figure size 432x288 with 1 Axes>"
      ]
     },
     "metadata": {
      "needs_background": "light"
     },
     "output_type": "display_data"
    },
    {
     "name": "stdout",
     "output_type": "stream",
     "text": [
      "Optimal lambda: -5.199999999999999\n"
     ]
    }
   ],
   "source": [
    "# Init parameters:\n",
    "xTrain, xTest, yTrain, yTest = train_test_split(np.array(data['yearsofexperience']).reshape(-1, 1), outcome.reshape(-1,1), test_size=0.2, random_state=seed)\n",
    "lambdas = np.linspace(-25,20,201)\n",
    "cont = np.empty([len(lambdas),2])*np.NaN # [lambda error]\n",
    "for ii in range(len(lambdas)):\n",
    "    ridgeModel = Ridge(alpha=lambdas[ii]).fit(xTrain, yTrain)\n",
    "    cont[ii,0] = lambdas[ii]\n",
    "    error = mean_squared_error(yTest,ridgeModel.predict(xTest),squared=False)\n",
    "    cont[ii,1] = error\n",
    "\n",
    "plt.plot(cont[:,0],cont[:,1])\n",
    "plt.xlabel('Lambda')\n",
    "plt.ylabel('RMSE')\n",
    "plt.title('Single Ridge regression')\n",
    "plt.show()\n",
    "optimal_lambda_single = lambdas[np.argmax(cont[:,1]==np.min(cont[:,1]))]\n",
    "\n",
    "print('Optimal lambda:',optimal_lambda_single)"
   ]
  },
  {
   "cell_type": "code",
   "execution_count": 41,
   "metadata": {},
   "outputs": [
    {
     "name": "stdout",
     "output_type": "stream",
     "text": [
      "0.0006643937370673719 0.17520990973078954\n"
     ]
    }
   ],
   "source": [
    "# single Ridge regression\n",
    "ridgeModel = Ridge(alpha=optimal_lambda_single).fit(xTrain, yTrain)\n",
    "error = mean_squared_error(yTest,ridgeModel.predict(xTest),squared=True)\n",
    "r_squared = r2_score(yTest,ridgeModel.predict(xTest))\n",
    "print(error,r_squared)"
   ]
  },
  {
   "attachments": {},
   "cell_type": "markdown",
   "metadata": {},
   "source": [
    "\n",
    "## 3. Using Lasso regression to do the same as in 1): How does the model change now? How many of the predictor betas are shrunk to exactly 0? What is the optimal lambda now?"
   ]
  },
  {
   "attachments": {},
   "cell_type": "markdown",
   "metadata": {},
   "source": [
    "### Answer:\n",
    "\n",
    "Both models now are actually performing worse. Probably due to a bad seed for the random state of the train_test_split function. on the multiple regression 9 of our predictor's betas were shrunk.\n",
    "\n",
    "For multiple regression:\n",
    "\n",
    "Optimal lambda: 0.5500000000000007\n",
    "\n",
    "For Simple Linear regression:\n",
    "\n",
    "Optimal lambda: 0.13422818791946156\n",
    "\n"
   ]
  },
  {
   "attachments": {},
   "cell_type": "markdown",
   "metadata": {},
   "source": [
    "### Multiple Lasso Regression"
   ]
  },
  {
   "cell_type": "code",
   "execution_count": 182,
   "metadata": {},
   "outputs": [
    {
     "data": {
      "image/png": "[encoded data removed]",
      "text/plain": [
       "<Figure size 432x288 with 1 Axes>"
      ]
     },
     "metadata": {
      "needs_background": "light"
     },
     "output_type": "display_data"
    },
    {
     "name": "stdout",
     "output_type": "stream",
     "text": [
      "Optimal lambda: 0.5500000000000007\n"
     ]
    }
   ],
   "source": [
    "#%% 5. Now do the same thing--but with lasso regression\n",
    "import warnings\n",
    "warnings.filterwarnings('ignore') # Just to ignore warnings that might be thrown due to artifically formed data.\n",
    "\n",
    "# Load libraries:\n",
    "from sklearn.linear_model import Lasso\n",
    "\n",
    "# Init parameters:\n",
    "xTrain, xTest, yTrain, yTest = train_test_split(predictors, outcome.reshape(-1,1), test_size=0.2, random_state=0)\n",
    "lambdas = np.linspace(-30,100,201)\n",
    "\n",
    "cont = np.empty([len(lambdas),2])*np.NaN # [lambda error]\n",
    "\n",
    "for ii in range(len(lambdas)):\n",
    "    lassoModel = Lasso(alpha=lambdas[ii]).fit(xTrain, yTrain)\n",
    "    cont[ii,0] = lambdas[ii]\n",
    "    error = mean_squared_error(yTest,lassoModel.predict(xTest),squared=False)\n",
    "    cont[ii,1] = error\n",
    "\n",
    "plt.plot(cont[:,0],cont[:,1])\n",
    "plt.xlabel('Lambda')\n",
    "plt.ylabel('RMSE')\n",
    "plt.title('Multiple Lasso regression')\n",
    "plt.show()\n",
    "optimal_lambda_multiple = lambdas[np.argmax(cont[:,1]==np.min(cont[:,1]))]\n",
    "print('Optimal lambda:',lambdas[np.argmax(cont[:,1]==np.min(cont[:,1]))])\n"
   ]
  },
  {
   "cell_type": "code",
   "execution_count": 183,
   "metadata": {},
   "outputs": [
    {
     "name": "stdout",
     "output_type": "stream",
     "text": [
      "0.4773686840218829 0.0884726320371435\n",
      "[ 0.          0.          0.         -0.          0.         -0.\n",
      " -0.          0.0050059  -0.          0.00095711  0.        ]\n"
     ]
    }
   ],
   "source": [
    "\n",
    "#multiple lasso\n",
    "lassoModel = Lasso(alpha=optimal_lambda_multiple).fit(xTrain, yTrain)\n",
    "error = mean_squared_error(yTest,lassoModel.predict(xTest),squared=False)\n",
    "r_squared = r2_score( yTest,lassoModel.predict(xTest))\n",
    "print(error,r_squared)\n",
    "print(lassoModel.coef_)"
   ]
  },
  {
   "attachments": {},
   "cell_type": "markdown",
   "metadata": {},
   "source": [
    "### Single Lasso Regression"
   ]
  },
  {
   "cell_type": "code",
   "execution_count": 195,
   "metadata": {},
   "outputs": [
    {
     "data": {
      "image/png": "[encoded data removed]",
      "text/plain": [
       "<Figure size 432x288 with 1 Axes>"
      ]
     },
     "metadata": {
      "needs_background": "light"
     },
     "output_type": "display_data"
    },
    {
     "name": "stdout",
     "output_type": "stream",
     "text": [
      "Optimal lambda: 0.13422818791946156\n"
     ]
    }
   ],
   "source": [
    "# Init parameters:\n",
    "xTrain, xTest, yTrain, yTest = train_test_split(np.array(data['yearsofexperience']).reshape(-1, 1), outcome.reshape(-1,1), test_size=0.2, random_state=144)\n",
    "lambdas = np.linspace(-60,100,150)\n",
    "\n",
    "\n",
    "cont = np.empty([len(lambdas),2])*np.NaN # [lambda error]\n",
    "\n",
    "for ii in range(len(lambdas)):\n",
    "    lassoModel = Lasso(alpha=lambdas[ii]).fit(xTrain, yTrain)\n",
    "    cont[ii,0] = lambdas[ii]\n",
    "    error = mean_squared_error(yTest,lassoModel.predict(xTest),squared=False)\n",
    "    \n",
    "    cont[ii,1] = error\n",
    "\n",
    "plt.plot(cont[:,0],cont[:,1])\n",
    "plt.xlabel('Lambda')\n",
    "plt.ylabel('RMSE')\n",
    "plt.title('Single Lasso regression')\n",
    "plt.show()\n",
    "optimal_lambda_single = lambdas[np.argmax(cont[:,1]==np.min(cont[:,1]))]\n",
    "\n",
    "print('Optimal lambda:',lambdas[np.argmax(cont[:,1]==np.min(cont[:,1]))])"
   ]
  },
  {
   "cell_type": "code",
   "execution_count": 196,
   "metadata": {},
   "outputs": [
    {
     "name": "stdout",
     "output_type": "stream",
     "text": [
      "0.5000023242133684 -0.00010727440064273175\n",
      "[0.]\n"
     ]
    }
   ],
   "source": [
    "#single lasso\n",
    "lassoModel = Lasso(alpha=optimal_lambda_single).fit(xTrain, yTrain)\n",
    "error = mean_squared_error(yTest,lassoModel.predict(xTest),squared=False)\n",
    "r_squared = r2_score(yTest,lassoModel.predict(xTest))\n",
    "print(error,r_squared)\n",
    "print(lassoModel.coef_)"
   ]
  },
  {
   "attachments": {},
   "cell_type": "markdown",
   "metadata": {},
   "source": [
    "## 4. There is controversy as to the existence of a male/female gender pay gap in tech job compensation. Build a logistic regression model (with gender as the outcome variable) to see if there is an appreciable beta associated with total annual compensation with and without controlling for other factors."
   ]
  },
  {
   "attachments": {},
   "cell_type": "markdown",
   "metadata": {},
   "source": [
    "### Organizing dataset for model and dealing with missing data\n",
    "\n",
    "Our dataset has both many missing data for the gender column and extremely inbalanced classes. So in this step I am fixing this issue, to input data in the regression that is the least biased as possible.\n",
    "-  I am only using columns that contains an assigned valu for gender \n",
    "- I am randomly sampling all the records with `MALE` as assigned value for column gender. On this random sample I am using only 6999 records, because it matches the amount available for `FEMALE` records. This way I am avoiding biase towards a specific class with an imbalanced dataset. "
   ]
  },
  {
   "cell_type": "code",
   "execution_count": 101,
   "metadata": {},
   "outputs": [],
   "source": [
    "data.gender = data.gender.str.upper()\n",
    "gender_logit_regression_data = data[(data.gender=='MALE') |(data.gender=='FEMALE')]\n"
   ]
  },
  {
   "cell_type": "code",
   "execution_count": 102,
   "metadata": {},
   "outputs": [
    {
     "data": {
      "text/plain": [
       "MALE      35698\n",
       "FEMALE     6999\n",
       "Name: gender, dtype: int64"
      ]
     },
     "execution_count": 102,
     "metadata": {},
     "output_type": "execute_result"
    }
   ],
   "source": [
    "# big difference in the value counts for this category \n",
    "gender_logit_regression_data.gender.value_counts()"
   ]
  },
  {
   "cell_type": "code",
   "execution_count": 116,
   "metadata": {},
   "outputs": [
    {
     "data": {
      "text/html": [
       "<div>\n",
       "<style scoped>\n",
       "    .dataframe tbody tr th:only-of-type {\n",
       "        vertical-align: middle;\n",
       "    }\n",
       "\n",
       "    .dataframe tbody tr th {\n",
       "        vertical-align: top;\n",
       "    }\n",
       "\n",
       "    .dataframe thead th {\n",
       "        text-align: right;\n",
       "    }\n",
       "</style>\n",
       "<table border=\"1\" class=\"dataframe\">\n",
       "  <thead>\n",
       "    <tr style=\"text-align: right;\">\n",
       "      <th></th>\n",
       "      <th>company</th>\n",
       "      <th>title</th>\n",
       "      <th>location</th>\n",
       "      <th>totalyearlycompensation</th>\n",
       "      <th>yearsofexperience</th>\n",
       "      <th>yearsatcompany</th>\n",
       "      <th>gender</th>\n",
       "      <th>Masters_Degree</th>\n",
       "      <th>Bachelors_Degree</th>\n",
       "      <th>Doctorate_Degree</th>\n",
       "      <th>...</th>\n",
       "      <th>Race_White</th>\n",
       "      <th>Race_Two_Or_More</th>\n",
       "      <th>Race_Black</th>\n",
       "      <th>Race_Hispanic</th>\n",
       "      <th>Race</th>\n",
       "      <th>Education</th>\n",
       "      <th>Age</th>\n",
       "      <th>Height</th>\n",
       "      <th>SAT</th>\n",
       "      <th>GPA</th>\n",
       "    </tr>\n",
       "  </thead>\n",
       "  <tbody>\n",
       "    <tr>\n",
       "      <th>10765</th>\n",
       "      <td>71</td>\n",
       "      <td>11</td>\n",
       "      <td>909</td>\n",
       "      <td>0.036821</td>\n",
       "      <td>0.144928</td>\n",
       "      <td>0.000000</td>\n",
       "      <td>1</td>\n",
       "      <td>0</td>\n",
       "      <td>0</td>\n",
       "      <td>0</td>\n",
       "      <td>...</td>\n",
       "      <td>0</td>\n",
       "      <td>0</td>\n",
       "      <td>0</td>\n",
       "      <td>0</td>\n",
       "      <td>NaN</td>\n",
       "      <td>NaN</td>\n",
       "      <td>41</td>\n",
       "      <td>67.151</td>\n",
       "      <td>1089</td>\n",
       "      <td>3.03</td>\n",
       "    </tr>\n",
       "    <tr>\n",
       "      <th>56603</th>\n",
       "      <td>143</td>\n",
       "      <td>11</td>\n",
       "      <td>58</td>\n",
       "      <td>0.020523</td>\n",
       "      <td>0.173913</td>\n",
       "      <td>0.014493</td>\n",
       "      <td>1</td>\n",
       "      <td>1</td>\n",
       "      <td>0</td>\n",
       "      <td>0</td>\n",
       "      <td>...</td>\n",
       "      <td>0</td>\n",
       "      <td>0</td>\n",
       "      <td>0</td>\n",
       "      <td>0</td>\n",
       "      <td>Asian</td>\n",
       "      <td>Master's Degree</td>\n",
       "      <td>32</td>\n",
       "      <td>66.442</td>\n",
       "      <td>1098</td>\n",
       "      <td>2.83</td>\n",
       "    </tr>\n",
       "    <tr>\n",
       "      <th>56640</th>\n",
       "      <td>640</td>\n",
       "      <td>11</td>\n",
       "      <td>257</td>\n",
       "      <td>0.022133</td>\n",
       "      <td>0.057971</td>\n",
       "      <td>0.028986</td>\n",
       "      <td>1</td>\n",
       "      <td>0</td>\n",
       "      <td>0</td>\n",
       "      <td>0</td>\n",
       "      <td>...</td>\n",
       "      <td>1</td>\n",
       "      <td>0</td>\n",
       "      <td>0</td>\n",
       "      <td>0</td>\n",
       "      <td>White</td>\n",
       "      <td>NaN</td>\n",
       "      <td>31</td>\n",
       "      <td>69.000</td>\n",
       "      <td>1088</td>\n",
       "      <td>2.73</td>\n",
       "    </tr>\n",
       "    <tr>\n",
       "      <th>15891</th>\n",
       "      <td>365</td>\n",
       "      <td>8</td>\n",
       "      <td>562</td>\n",
       "      <td>0.048290</td>\n",
       "      <td>0.028986</td>\n",
       "      <td>0.000000</td>\n",
       "      <td>1</td>\n",
       "      <td>1</td>\n",
       "      <td>0</td>\n",
       "      <td>0</td>\n",
       "      <td>...</td>\n",
       "      <td>0</td>\n",
       "      <td>0</td>\n",
       "      <td>0</td>\n",
       "      <td>0</td>\n",
       "      <td>NaN</td>\n",
       "      <td>Master's Degree</td>\n",
       "      <td>37</td>\n",
       "      <td>67.546</td>\n",
       "      <td>975</td>\n",
       "      <td>2.86</td>\n",
       "    </tr>\n",
       "    <tr>\n",
       "      <th>43268</th>\n",
       "      <td>829</td>\n",
       "      <td>11</td>\n",
       "      <td>824</td>\n",
       "      <td>0.028370</td>\n",
       "      <td>0.072464</td>\n",
       "      <td>0.000000</td>\n",
       "      <td>1</td>\n",
       "      <td>0</td>\n",
       "      <td>0</td>\n",
       "      <td>0</td>\n",
       "      <td>...</td>\n",
       "      <td>0</td>\n",
       "      <td>0</td>\n",
       "      <td>0</td>\n",
       "      <td>0</td>\n",
       "      <td>Asian</td>\n",
       "      <td>NaN</td>\n",
       "      <td>33</td>\n",
       "      <td>71.486</td>\n",
       "      <td>1031</td>\n",
       "      <td>2.85</td>\n",
       "    </tr>\n",
       "    <tr>\n",
       "      <th>...</th>\n",
       "      <td>...</td>\n",
       "      <td>...</td>\n",
       "      <td>...</td>\n",
       "      <td>...</td>\n",
       "      <td>...</td>\n",
       "      <td>...</td>\n",
       "      <td>...</td>\n",
       "      <td>...</td>\n",
       "      <td>...</td>\n",
       "      <td>...</td>\n",
       "      <td>...</td>\n",
       "      <td>...</td>\n",
       "      <td>...</td>\n",
       "      <td>...</td>\n",
       "      <td>...</td>\n",
       "      <td>...</td>\n",
       "      <td>...</td>\n",
       "      <td>...</td>\n",
       "      <td>...</td>\n",
       "      <td>...</td>\n",
       "      <td>...</td>\n",
       "    </tr>\n",
       "    <tr>\n",
       "      <th>363</th>\n",
       "      <td>640</td>\n",
       "      <td>11</td>\n",
       "      <td>765</td>\n",
       "      <td>0.033602</td>\n",
       "      <td>0.086957</td>\n",
       "      <td>0.065217</td>\n",
       "      <td>0</td>\n",
       "      <td>0</td>\n",
       "      <td>0</td>\n",
       "      <td>0</td>\n",
       "      <td>...</td>\n",
       "      <td>0</td>\n",
       "      <td>0</td>\n",
       "      <td>0</td>\n",
       "      <td>0</td>\n",
       "      <td>NaN</td>\n",
       "      <td>NaN</td>\n",
       "      <td>36</td>\n",
       "      <td>70.494</td>\n",
       "      <td>979</td>\n",
       "      <td>2.55</td>\n",
       "    </tr>\n",
       "    <tr>\n",
       "      <th>49636</th>\n",
       "      <td>47</td>\n",
       "      <td>9</td>\n",
       "      <td>625</td>\n",
       "      <td>0.017304</td>\n",
       "      <td>0.086957</td>\n",
       "      <td>0.014493</td>\n",
       "      <td>0</td>\n",
       "      <td>0</td>\n",
       "      <td>1</td>\n",
       "      <td>0</td>\n",
       "      <td>...</td>\n",
       "      <td>1</td>\n",
       "      <td>0</td>\n",
       "      <td>0</td>\n",
       "      <td>0</td>\n",
       "      <td>White</td>\n",
       "      <td>Bachelor's Degree</td>\n",
       "      <td>37</td>\n",
       "      <td>71.505</td>\n",
       "      <td>1074</td>\n",
       "      <td>3.03</td>\n",
       "    </tr>\n",
       "    <tr>\n",
       "      <th>27359</th>\n",
       "      <td>47</td>\n",
       "      <td>7</td>\n",
       "      <td>823</td>\n",
       "      <td>0.035211</td>\n",
       "      <td>0.028986</td>\n",
       "      <td>0.014493</td>\n",
       "      <td>0</td>\n",
       "      <td>0</td>\n",
       "      <td>1</td>\n",
       "      <td>0</td>\n",
       "      <td>...</td>\n",
       "      <td>0</td>\n",
       "      <td>0</td>\n",
       "      <td>0</td>\n",
       "      <td>0</td>\n",
       "      <td>NaN</td>\n",
       "      <td>Bachelor's Degree</td>\n",
       "      <td>32</td>\n",
       "      <td>59.407</td>\n",
       "      <td>1169</td>\n",
       "      <td>3.12</td>\n",
       "    </tr>\n",
       "    <tr>\n",
       "      <th>33867</th>\n",
       "      <td>102</td>\n",
       "      <td>1</td>\n",
       "      <td>183</td>\n",
       "      <td>0.018511</td>\n",
       "      <td>0.072464</td>\n",
       "      <td>0.043478</td>\n",
       "      <td>0</td>\n",
       "      <td>0</td>\n",
       "      <td>1</td>\n",
       "      <td>0</td>\n",
       "      <td>...</td>\n",
       "      <td>1</td>\n",
       "      <td>0</td>\n",
       "      <td>0</td>\n",
       "      <td>0</td>\n",
       "      <td>White</td>\n",
       "      <td>Bachelor's Degree</td>\n",
       "      <td>43</td>\n",
       "      <td>69.323</td>\n",
       "      <td>1163</td>\n",
       "      <td>3.27</td>\n",
       "    </tr>\n",
       "    <tr>\n",
       "      <th>21922</th>\n",
       "      <td>1000</td>\n",
       "      <td>11</td>\n",
       "      <td>644</td>\n",
       "      <td>0.025352</td>\n",
       "      <td>0.000000</td>\n",
       "      <td>0.000000</td>\n",
       "      <td>0</td>\n",
       "      <td>0</td>\n",
       "      <td>0</td>\n",
       "      <td>0</td>\n",
       "      <td>...</td>\n",
       "      <td>0</td>\n",
       "      <td>0</td>\n",
       "      <td>0</td>\n",
       "      <td>0</td>\n",
       "      <td>NaN</td>\n",
       "      <td>NaN</td>\n",
       "      <td>34</td>\n",
       "      <td>67.976</td>\n",
       "      <td>1066</td>\n",
       "      <td>2.70</td>\n",
       "    </tr>\n",
       "  </tbody>\n",
       "</table>\n",
       "<p>12000 rows × 23 columns</p>\n",
       "</div>"
      ],
      "text/plain": [
       "       company  title  location  totalyearlycompensation  yearsofexperience  \\\n",
       "10765       71     11       909                 0.036821           0.144928   \n",
       "56603      143     11        58                 0.020523           0.173913   \n",
       "56640      640     11       257                 0.022133           0.057971   \n",
       "15891      365      8       562                 0.048290           0.028986   \n",
       "43268      829     11       824                 0.028370           0.072464   \n",
       "...        ...    ...       ...                      ...                ...   \n",
       "363        640     11       765                 0.033602           0.086957   \n",
       "49636       47      9       625                 0.017304           0.086957   \n",
       "27359       47      7       823                 0.035211           0.028986   \n",
       "33867      102      1       183                 0.018511           0.072464   \n",
       "21922     1000     11       644                 0.025352           0.000000   \n",
       "\n",
       "       yearsatcompany  gender  Masters_Degree  Bachelors_Degree  \\\n",
       "10765        0.000000       1               0                 0   \n",
       "56603        0.014493       1               1                 0   \n",
       "56640        0.028986       1               0                 0   \n",
       "15891        0.000000       1               1                 0   \n",
       "43268        0.000000       1               0                 0   \n",
       "...               ...     ...             ...               ...   \n",
       "363          0.065217       0               0                 0   \n",
       "49636        0.014493       0               0                 1   \n",
       "27359        0.014493       0               0                 1   \n",
       "33867        0.043478       0               0                 1   \n",
       "21922        0.000000       0               0                 0   \n",
       "\n",
       "       Doctorate_Degree  ...  Race_White  Race_Two_Or_More  Race_Black  \\\n",
       "10765                 0  ...           0                 0           0   \n",
       "56603                 0  ...           0                 0           0   \n",
       "56640                 0  ...           1                 0           0   \n",
       "15891                 0  ...           0                 0           0   \n",
       "43268                 0  ...           0                 0           0   \n",
       "...                 ...  ...         ...               ...         ...   \n",
       "363                   0  ...           0                 0           0   \n",
       "49636                 0  ...           1                 0           0   \n",
       "27359                 0  ...           0                 0           0   \n",
       "33867                 0  ...           1                 0           0   \n",
       "21922                 0  ...           0                 0           0   \n",
       "\n",
       "       Race_Hispanic   Race          Education  Age  Height   SAT   GPA  \n",
       "10765              0    NaN                NaN   41  67.151  1089  3.03  \n",
       "56603              0  Asian    Master's Degree   32  66.442  1098  2.83  \n",
       "56640              0  White                NaN   31  69.000  1088  2.73  \n",
       "15891              0    NaN    Master's Degree   37  67.546   975  2.86  \n",
       "43268              0  Asian                NaN   33  71.486  1031  2.85  \n",
       "...              ...    ...                ...  ...     ...   ...   ...  \n",
       "363                0    NaN                NaN   36  70.494   979  2.55  \n",
       "49636              0  White  Bachelor's Degree   37  71.505  1074  3.03  \n",
       "27359              0    NaN  Bachelor's Degree   32  59.407  1169  3.12  \n",
       "33867              0  White  Bachelor's Degree   43  69.323  1163  3.27  \n",
       "21922              0    NaN                NaN   34  67.976  1066  2.70  \n",
       "\n",
       "[12000 rows x 23 columns]"
      ]
     },
     "execution_count": 116,
     "metadata": {},
     "output_type": "execute_result"
    }
   ],
   "source": [
    "# sampling the same amount of records as for female randomly \n",
    "male_df = gender_logit_regression_data[gender_logit_regression_data.gender == 'MALE'].sample(6000)\n",
    "\n",
    "female_df = gender_logit_regression_data[gender_logit_regression_data.gender == 'FEMALE'].sample(6000)\n",
    "\n",
    "gender_data = pd.concat([male_df, female_df])\n",
    "gender_data['gender']  = le.fit_transform(gender_data['gender'])\n",
    "\n",
    "## Now Male lable stands for 1 and Female lable stands for 0 \n",
    "gender_data\n"
   ]
  },
  {
   "attachments": {},
   "cell_type": "markdown",
   "metadata": {},
   "source": [
    "### Correlation"
   ]
  },
  {
   "cell_type": "code",
   "execution_count": 143,
   "metadata": {},
   "outputs": [
    {
     "data": {
      "image/png": "[encoded data removed]",
      "text/plain": [
       "<Figure size 576x432 with 2 Axes>"
      ]
     },
     "metadata": {
      "needs_background": "light"
     },
     "output_type": "display_data"
    },
    {
     "data": {
      "text/html": [
       "<div>\n",
       "<style scoped>\n",
       "    .dataframe tbody tr th:only-of-type {\n",
       "        vertical-align: middle;\n",
       "    }\n",
       "\n",
       "    .dataframe tbody tr th {\n",
       "        vertical-align: top;\n",
       "    }\n",
       "\n",
       "    .dataframe thead th {\n",
       "        text-align: right;\n",
       "    }\n",
       "</style>\n",
       "<table border=\"1\" class=\"dataframe\">\n",
       "  <thead>\n",
       "    <tr style=\"text-align: right;\">\n",
       "      <th></th>\n",
       "      <th>totalyearlycompensation</th>\n",
       "      <th>gender</th>\n",
       "    </tr>\n",
       "  </thead>\n",
       "  <tbody>\n",
       "    <tr>\n",
       "      <th>totalyearlycompensation</th>\n",
       "      <td>1.000000</td>\n",
       "      <td>0.069288</td>\n",
       "    </tr>\n",
       "    <tr>\n",
       "      <th>gender</th>\n",
       "      <td>0.069288</td>\n",
       "      <td>1.000000</td>\n",
       "    </tr>\n",
       "  </tbody>\n",
       "</table>\n",
       "</div>"
      ],
      "text/plain": [
       "                         totalyearlycompensation    gender\n",
       "totalyearlycompensation                 1.000000  0.069288\n",
       "gender                                  0.069288  1.000000"
      ]
     },
     "execution_count": 143,
     "metadata": {},
     "output_type": "execute_result"
    }
   ],
   "source": [
    "df = pd.DataFrame(gender_data[['totalyearlycompensation','gender']])\n",
    "plt.figure(figsize=(8, 6))# get the correlation matrix\n",
    "corr = df.corr()\n",
    "\n",
    "# plot the correlation matrix using matplotlib\n",
    "plt.imshow(corr, cmap='coolwarm', interpolation='nearest')\n",
    "plt.colorbar()\n",
    "plt.xticks(range(len(corr)), corr.columns, rotation=90)\n",
    "plt.yticks(range(len(corr)), corr.columns)\n",
    "plt.show()\n",
    "corr"
   ]
  },
  {
   "attachments": {},
   "cell_type": "markdown",
   "metadata": {},
   "source": [
    "### The Simple logistical regression\n"
   ]
  },
  {
   "cell_type": "code",
   "execution_count": 157,
   "metadata": {},
   "outputs": [
    {
     "name": "stdout",
     "output_type": "stream",
     "text": [
      "Accuracy: 52.33%\n",
      "[[822 341]\n",
      " [803 434]]\n",
      "[[3.60674926]]\n"
     ]
    }
   ],
   "source": [
    "\n",
    "from sklearn.linear_model import LogisticRegression\n",
    "from sklearn.model_selection import train_test_split\n",
    "from sklearn.metrics import confusion_matrix\n",
    "from sklearn.metrics import matthews_corrcoef\n",
    "\n",
    "\n",
    "# Split the data into training and testing sets\n",
    "X_train, X_test, y_train, y_test = train_test_split(np.array(gender_data['totalyearlycompensation']).reshape(-1, 1), np.array(gender_data['gender']).reshape(-1, 1), test_size=0.2,random_state = 1)\n",
    "\n",
    "# Define your logistic regression model\n",
    "model = LogisticRegression()\n",
    "\n",
    "# Train the model on the training data\n",
    "model.fit(X_train, y_train)\n",
    "\n",
    "# Test the model on the testing data\n",
    "# predict the dependent variable\n",
    "y_pred = model.predict(X_test)\n",
    "\n",
    "# calculate R-squared\n",
    "r_squared = r2_score(y_test, y_pred)\n",
    "rmse = mean_squared_error(y_test,y_pred)\n",
    "acc = model.score(X_test, y_test)\n",
    "cm = confusion_matrix(y_test,y_pred)\n",
    "mcc = matthews_corrcoef(y_test, y_pred)\n",
    "\n",
    "print(\"Accuracy: {:.2f}%\".format(acc  * 100))\n",
    "print(cm)\n",
    "mcc\n",
    "single_coef = model.coef_[0][0]\n",
    "print(model.coef_)"
   ]
  },
  {
   "attachments": {},
   "cell_type": "markdown",
   "metadata": {},
   "source": [
    "### The multiple logisticat regression"
   ]
  },
  {
   "cell_type": "code",
   "execution_count": 158,
   "metadata": {},
   "outputs": [
    {
     "name": "stdout",
     "output_type": "stream",
     "text": [
      "Accuracy: 54.00%\n",
      "[[761 402]\n",
      " [702 535]]\n",
      "[[ 0.0632371   0.32130456  0.07683531 -0.33876056 -0.43016258  0.04844022\n",
      "   0.09564622  0.05274939  0.00051555 -0.09303457]]\n"
     ]
    }
   ],
   "source": [
    "# Split the data into training and testing sets\n",
    "predictors_columns = ['yearsofexperience','title','location','totalyearlycompensation','Masters_Degree','Bachelors_Degree','yearsofexperience','SAT']\n",
    "predictors = gender_data.drop([\"company\",'title','location','Race_White','Race_Black','Race_Two_Or_More','Race_Hispanic','gender','Race_Asian','Race','Education','Height','Age'],axis =1)\n",
    "\n",
    "\n",
    "X_train, X_test, y_train, y_test = train_test_split(predictors, np.array(gender_data['gender']).reshape(-1, 1), test_size=0.2,random_state =1)\n",
    "\n",
    "# Define your logistic regression model\n",
    "model = LogisticRegression()\n",
    "\n",
    "# Train the model on the training data\n",
    "model.fit(X_train, y_train)\n",
    "y_pred = model.predict(X_test)\n",
    "\n",
    "# Test the model on the testing data\n",
    "r_squared = r2_score(y_test, y_pred)\n",
    "rmse = mean_squared_error(y_test,y_pred)\n",
    "acc = model.score(X_test, y_test)\n",
    "cm = confusion_matrix(y_test,y_pred)\n",
    "mcc = matthews_corrcoef(y_test, y_pred)\n",
    "\n",
    "print(\"Accuracy: {:.2f}%\".format(acc * 100))\n",
    "print(cm)\n",
    "mcc\n",
    "print(model.coef_)\n",
    "multiple_coef =model.coef_[0][0]"
   ]
  },
  {
   "cell_type": "code",
   "execution_count": 161,
   "metadata": {},
   "outputs": [
    {
     "name": "stdout",
     "output_type": "stream",
     "text": [
      "change in coeficient 57.035338228713464\n"
     ]
    }
   ],
   "source": [
    "print('change in coeficient',single_coef/multiple_coef)"
   ]
  },
  {
   "attachments": {},
   "cell_type": "markdown",
   "metadata": {},
   "source": [
    "### *Interpreting results:* \n",
    "\n",
    "On the first linear regression where we use the `totalyearlycompensation` alone as a predictor for gender. Our model gives us a coeficient of 3.60674926 meaning that for every change on our predictor, the dependable variable will change by a factor of 3.6. This high number must be due to the fact that `totalyearlycompensation` is our only predictor and its doing all of the heavy lifting for the model. We use a correlation, shown on the correlation section of this question, that this variable is very weakly correleated with our target variables. \n",
    "\n",
    "Subsequentially we used a Logistical regression with multiple predictors [`totalyearlycompensatio`, `yearsofexperience`, `yearsatcompany`, `Masters_Degree`, `Bachelors_Degree`,`Doctorate_Degree`,`Highschool`,`Some_College`,`SAT`, `GPA`]. \n",
    "\n",
    "By comparing the coefficients related to `totalyearlycompensation` we see a decrease by a factor of 57x. Meaning that its 57 times lower than the one on the single logictical regression. While, now our best coeficient is related to the variable `yearsofexperience`. \n",
    "\n",
    "My interpretation is that `yearsofexperience` might be related to fact that one of the class may have a longer years of experience than the other class. Therefore it works as a better predictor for gender. \n",
    "\n",
    "Futhermore, we can see that the `totalyearlycompensation` alone cant be used as a single predictor for gender, because once we added extra predictors, our model had a slightly improve. \n",
    "\n"
   ]
  },
  {
   "attachments": {},
   "cell_type": "markdown",
   "metadata": {},
   "source": [
    "## 5. Build a logistic regression model to see if you can predict high and low pay from years of relevant experience, age, height, SAT score and GPA, respectively.\n"
   ]
  },
  {
   "attachments": {},
   "cell_type": "markdown",
   "metadata": {},
   "source": [
    "### Creating cutoff and setting values in the data frame\n",
    "\n",
    "The cutoff is set by the median value of the totalyearlycompensation column. So any value greater than that is beign assigned the class 1 and anythin below is being assigned the class 0. "
   ]
  },
  {
   "cell_type": "code",
   "execution_count": 202,
   "metadata": {},
   "outputs": [
    {
     "data": {
      "text/html": [
       "<div>\n",
       "<style scoped>\n",
       "    .dataframe tbody tr th:only-of-type {\n",
       "        vertical-align: middle;\n",
       "    }\n",
       "\n",
       "    .dataframe tbody tr th {\n",
       "        vertical-align: top;\n",
       "    }\n",
       "\n",
       "    .dataframe thead th {\n",
       "        text-align: right;\n",
       "    }\n",
       "</style>\n",
       "<table border=\"1\" class=\"dataframe\">\n",
       "  <thead>\n",
       "    <tr style=\"text-align: right;\">\n",
       "      <th></th>\n",
       "      <th>company</th>\n",
       "      <th>title</th>\n",
       "      <th>location</th>\n",
       "      <th>totalyearlycompensation</th>\n",
       "      <th>yearsofexperience</th>\n",
       "      <th>yearsatcompany</th>\n",
       "      <th>gender</th>\n",
       "      <th>Masters_Degree</th>\n",
       "      <th>Bachelors_Degree</th>\n",
       "      <th>Doctorate_Degree</th>\n",
       "      <th>...</th>\n",
       "      <th>Race_White</th>\n",
       "      <th>Race_Two_Or_More</th>\n",
       "      <th>Race_Black</th>\n",
       "      <th>Race_Hispanic</th>\n",
       "      <th>Race</th>\n",
       "      <th>Education</th>\n",
       "      <th>Age</th>\n",
       "      <th>Height</th>\n",
       "      <th>SAT</th>\n",
       "      <th>GPA</th>\n",
       "    </tr>\n",
       "  </thead>\n",
       "  <tbody>\n",
       "    <tr>\n",
       "      <th>0</th>\n",
       "      <td>722</td>\n",
       "      <td>8</td>\n",
       "      <td>767</td>\n",
       "      <td>0</td>\n",
       "      <td>0.021739</td>\n",
       "      <td>0.021739</td>\n",
       "      <td>NaN</td>\n",
       "      <td>0</td>\n",
       "      <td>0</td>\n",
       "      <td>0</td>\n",
       "      <td>...</td>\n",
       "      <td>0</td>\n",
       "      <td>0</td>\n",
       "      <td>0</td>\n",
       "      <td>0</td>\n",
       "      <td>NaN</td>\n",
       "      <td>NaN</td>\n",
       "      <td>38</td>\n",
       "      <td>68.590</td>\n",
       "      <td>829</td>\n",
       "      <td>2.13</td>\n",
       "    </tr>\n",
       "    <tr>\n",
       "      <th>1</th>\n",
       "      <td>331</td>\n",
       "      <td>11</td>\n",
       "      <td>823</td>\n",
       "      <td>0</td>\n",
       "      <td>0.072464</td>\n",
       "      <td>0.043478</td>\n",
       "      <td>NaN</td>\n",
       "      <td>0</td>\n",
       "      <td>0</td>\n",
       "      <td>0</td>\n",
       "      <td>...</td>\n",
       "      <td>0</td>\n",
       "      <td>0</td>\n",
       "      <td>0</td>\n",
       "      <td>0</td>\n",
       "      <td>NaN</td>\n",
       "      <td>NaN</td>\n",
       "      <td>34</td>\n",
       "      <td>68.059</td>\n",
       "      <td>993</td>\n",
       "      <td>2.77</td>\n",
       "    </tr>\n",
       "    <tr>\n",
       "      <th>2</th>\n",
       "      <td>47</td>\n",
       "      <td>8</td>\n",
       "      <td>859</td>\n",
       "      <td>1</td>\n",
       "      <td>0.115942</td>\n",
       "      <td>0.000000</td>\n",
       "      <td>NaN</td>\n",
       "      <td>0</td>\n",
       "      <td>0</td>\n",
       "      <td>0</td>\n",
       "      <td>...</td>\n",
       "      <td>0</td>\n",
       "      <td>0</td>\n",
       "      <td>0</td>\n",
       "      <td>0</td>\n",
       "      <td>NaN</td>\n",
       "      <td>NaN</td>\n",
       "      <td>42</td>\n",
       "      <td>61.343</td>\n",
       "      <td>1200</td>\n",
       "      <td>3.26</td>\n",
       "    </tr>\n",
       "    <tr>\n",
       "      <th>3</th>\n",
       "      <td>71</td>\n",
       "      <td>12</td>\n",
       "      <td>909</td>\n",
       "      <td>1</td>\n",
       "      <td>0.101449</td>\n",
       "      <td>0.072464</td>\n",
       "      <td>NaN</td>\n",
       "      <td>0</td>\n",
       "      <td>0</td>\n",
       "      <td>0</td>\n",
       "      <td>...</td>\n",
       "      <td>0</td>\n",
       "      <td>0</td>\n",
       "      <td>0</td>\n",
       "      <td>0</td>\n",
       "      <td>NaN</td>\n",
       "      <td>NaN</td>\n",
       "      <td>28</td>\n",
       "      <td>66.495</td>\n",
       "      <td>1170</td>\n",
       "      <td>3.07</td>\n",
       "    </tr>\n",
       "    <tr>\n",
       "      <th>4</th>\n",
       "      <td>640</td>\n",
       "      <td>11</td>\n",
       "      <td>610</td>\n",
       "      <td>0</td>\n",
       "      <td>0.072464</td>\n",
       "      <td>0.043478</td>\n",
       "      <td>NaN</td>\n",
       "      <td>0</td>\n",
       "      <td>0</td>\n",
       "      <td>0</td>\n",
       "      <td>...</td>\n",
       "      <td>0</td>\n",
       "      <td>0</td>\n",
       "      <td>0</td>\n",
       "      <td>0</td>\n",
       "      <td>NaN</td>\n",
       "      <td>NaN</td>\n",
       "      <td>34</td>\n",
       "      <td>69.015</td>\n",
       "      <td>1115</td>\n",
       "      <td>2.91</td>\n",
       "    </tr>\n",
       "    <tr>\n",
       "      <th>...</th>\n",
       "      <td>...</td>\n",
       "      <td>...</td>\n",
       "      <td>...</td>\n",
       "      <td>...</td>\n",
       "      <td>...</td>\n",
       "      <td>...</td>\n",
       "      <td>...</td>\n",
       "      <td>...</td>\n",
       "      <td>...</td>\n",
       "      <td>...</td>\n",
       "      <td>...</td>\n",
       "      <td>...</td>\n",
       "      <td>...</td>\n",
       "      <td>...</td>\n",
       "      <td>...</td>\n",
       "      <td>...</td>\n",
       "      <td>...</td>\n",
       "      <td>...</td>\n",
       "      <td>...</td>\n",
       "      <td>...</td>\n",
       "      <td>...</td>\n",
       "    </tr>\n",
       "    <tr>\n",
       "      <th>62637</th>\n",
       "      <td>437</td>\n",
       "      <td>11</td>\n",
       "      <td>859</td>\n",
       "      <td>1</td>\n",
       "      <td>0.144928</td>\n",
       "      <td>0.014493</td>\n",
       "      <td>NaN</td>\n",
       "      <td>0</td>\n",
       "      <td>0</td>\n",
       "      <td>0</td>\n",
       "      <td>...</td>\n",
       "      <td>0</td>\n",
       "      <td>0</td>\n",
       "      <td>0</td>\n",
       "      <td>0</td>\n",
       "      <td>NaN</td>\n",
       "      <td>NaN</td>\n",
       "      <td>52</td>\n",
       "      <td>64.792</td>\n",
       "      <td>1064</td>\n",
       "      <td>2.76</td>\n",
       "    </tr>\n",
       "    <tr>\n",
       "      <th>62638</th>\n",
       "      <td>640</td>\n",
       "      <td>11</td>\n",
       "      <td>765</td>\n",
       "      <td>1</td>\n",
       "      <td>0.028986</td>\n",
       "      <td>0.028986</td>\n",
       "      <td>NaN</td>\n",
       "      <td>0</td>\n",
       "      <td>0</td>\n",
       "      <td>0</td>\n",
       "      <td>...</td>\n",
       "      <td>0</td>\n",
       "      <td>0</td>\n",
       "      <td>0</td>\n",
       "      <td>0</td>\n",
       "      <td>NaN</td>\n",
       "      <td>NaN</td>\n",
       "      <td>21</td>\n",
       "      <td>69.483</td>\n",
       "      <td>1160</td>\n",
       "      <td>3.27</td>\n",
       "    </tr>\n",
       "    <tr>\n",
       "      <th>62639</th>\n",
       "      <td>661</td>\n",
       "      <td>11</td>\n",
       "      <td>859</td>\n",
       "      <td>1</td>\n",
       "      <td>0.202899</td>\n",
       "      <td>0.173913</td>\n",
       "      <td>NaN</td>\n",
       "      <td>0</td>\n",
       "      <td>0</td>\n",
       "      <td>0</td>\n",
       "      <td>...</td>\n",
       "      <td>0</td>\n",
       "      <td>0</td>\n",
       "      <td>0</td>\n",
       "      <td>0</td>\n",
       "      <td>NaN</td>\n",
       "      <td>NaN</td>\n",
       "      <td>43</td>\n",
       "      <td>62.331</td>\n",
       "      <td>1014</td>\n",
       "      <td>2.78</td>\n",
       "    </tr>\n",
       "    <tr>\n",
       "      <th>62640</th>\n",
       "      <td>832</td>\n",
       "      <td>11</td>\n",
       "      <td>823</td>\n",
       "      <td>1</td>\n",
       "      <td>0.115942</td>\n",
       "      <td>0.057971</td>\n",
       "      <td>NaN</td>\n",
       "      <td>0</td>\n",
       "      <td>0</td>\n",
       "      <td>0</td>\n",
       "      <td>...</td>\n",
       "      <td>0</td>\n",
       "      <td>0</td>\n",
       "      <td>0</td>\n",
       "      <td>0</td>\n",
       "      <td>NaN</td>\n",
       "      <td>NaN</td>\n",
       "      <td>48</td>\n",
       "      <td>70.357</td>\n",
       "      <td>1109</td>\n",
       "      <td>3.04</td>\n",
       "    </tr>\n",
       "    <tr>\n",
       "      <th>62641</th>\n",
       "      <td>71</td>\n",
       "      <td>11</td>\n",
       "      <td>909</td>\n",
       "      <td>1</td>\n",
       "      <td>0.000000</td>\n",
       "      <td>0.000000</td>\n",
       "      <td>MALE</td>\n",
       "      <td>0</td>\n",
       "      <td>0</td>\n",
       "      <td>0</td>\n",
       "      <td>...</td>\n",
       "      <td>0</td>\n",
       "      <td>0</td>\n",
       "      <td>0</td>\n",
       "      <td>0</td>\n",
       "      <td>NaN</td>\n",
       "      <td>NaN</td>\n",
       "      <td>34</td>\n",
       "      <td>63.063</td>\n",
       "      <td>1219</td>\n",
       "      <td>3.21</td>\n",
       "    </tr>\n",
       "  </tbody>\n",
       "</table>\n",
       "<p>62637 rows × 23 columns</p>\n",
       "</div>"
      ],
      "text/plain": [
       "       company  title  location  totalyearlycompensation  yearsofexperience  \\\n",
       "0          722      8       767                        0           0.021739   \n",
       "1          331     11       823                        0           0.072464   \n",
       "2           47      8       859                        1           0.115942   \n",
       "3           71     12       909                        1           0.101449   \n",
       "4          640     11       610                        0           0.072464   \n",
       "...        ...    ...       ...                      ...                ...   \n",
       "62637      437     11       859                        1           0.144928   \n",
       "62638      640     11       765                        1           0.028986   \n",
       "62639      661     11       859                        1           0.202899   \n",
       "62640      832     11       823                        1           0.115942   \n",
       "62641       71     11       909                        1           0.000000   \n",
       "\n",
       "       yearsatcompany gender  Masters_Degree  Bachelors_Degree  \\\n",
       "0            0.021739    NaN               0                 0   \n",
       "1            0.043478    NaN               0                 0   \n",
       "2            0.000000    NaN               0                 0   \n",
       "3            0.072464    NaN               0                 0   \n",
       "4            0.043478    NaN               0                 0   \n",
       "...               ...    ...             ...               ...   \n",
       "62637        0.014493    NaN               0                 0   \n",
       "62638        0.028986    NaN               0                 0   \n",
       "62639        0.173913    NaN               0                 0   \n",
       "62640        0.057971    NaN               0                 0   \n",
       "62641        0.000000   MALE               0                 0   \n",
       "\n",
       "       Doctorate_Degree  ...  Race_White  Race_Two_Or_More  Race_Black  \\\n",
       "0                     0  ...           0                 0           0   \n",
       "1                     0  ...           0                 0           0   \n",
       "2                     0  ...           0                 0           0   \n",
       "3                     0  ...           0                 0           0   \n",
       "4                     0  ...           0                 0           0   \n",
       "...                 ...  ...         ...               ...         ...   \n",
       "62637                 0  ...           0                 0           0   \n",
       "62638                 0  ...           0                 0           0   \n",
       "62639                 0  ...           0                 0           0   \n",
       "62640                 0  ...           0                 0           0   \n",
       "62641                 0  ...           0                 0           0   \n",
       "\n",
       "       Race_Hispanic  Race  Education  Age  Height   SAT   GPA  \n",
       "0                  0   NaN        NaN   38  68.590   829  2.13  \n",
       "1                  0   NaN        NaN   34  68.059   993  2.77  \n",
       "2                  0   NaN        NaN   42  61.343  1200  3.26  \n",
       "3                  0   NaN        NaN   28  66.495  1170  3.07  \n",
       "4                  0   NaN        NaN   34  69.015  1115  2.91  \n",
       "...              ...   ...        ...  ...     ...   ...   ...  \n",
       "62637              0   NaN        NaN   52  64.792  1064  2.76  \n",
       "62638              0   NaN        NaN   21  69.483  1160  3.27  \n",
       "62639              0   NaN        NaN   43  62.331  1014  2.78  \n",
       "62640              0   NaN        NaN   48  70.357  1109  3.04  \n",
       "62641              0   NaN        NaN   34  63.063  1219  3.21  \n",
       "\n",
       "[62637 rows x 23 columns]"
      ]
     },
     "execution_count": 202,
     "metadata": {},
     "output_type": "execute_result"
    }
   ],
   "source": [
    "pay_Logit_data = data\n",
    "\n",
    "def check_cutoff(value):\n",
    "    if value > pay_Logit_data.totalyearlycompensation.median():\n",
    "        return 1\n",
    "    else:\n",
    "        return 0\n",
    "    \n",
    "pay_Logit_data['totalyearlycompensation'] = pay_Logit_data['totalyearlycompensation'].apply(check_cutoff)\n",
    "\n",
    "pay_Logit_data"
   ]
  },
  {
   "attachments": {},
   "cell_type": "markdown",
   "metadata": {},
   "source": [
    "### The logistical regression\n",
    "\n",
    "By observing the coeficients we can see that as expected from the correlation table in the beginning of the assignment, `yearsofexperience` is one of the most correlated predictors with `totalyearlycompensation`. Therefore it has the heighest coefficient. While it is interesting to note that 'Age','Height','GPA' coefficients are negative. Meaning that these predictors have an inverse relation with our target variable.\n",
    "\n",
    "We can see that with an MCC of 0.38, it is safe to say that our model with be able to predict unseen data , most of time, and these predictions will be correct. \n",
    "\n",
    "Accuracy: 69.07%\n",
    "\n",
    "Coefficients:\n",
    "[[ 1.02798357e+01 -2.08954559e-03 -2.80691883e-02  3.74386274e-03\n",
    "  -1.75117927e-02]]\n",
    "\n",
    "Confusion Matrix:\n",
    "  [[4616 1661]\n",
    " [2214 4037]] \n",
    " \n",
    " MCC:\n",
    " 0.3827647361621342"
   ]
  },
  {
   "cell_type": "code",
   "execution_count": 204,
   "metadata": {},
   "outputs": [
    {
     "name": "stdout",
     "output_type": "stream",
     "text": [
      "Accuracy: 69.07%\n",
      "[[ 1.02798357e+01 -2.08954559e-03 -2.80691883e-02  3.74386274e-03\n",
      "  -1.75117927e-02]]\n",
      "[[4616 1661]\n",
      " [2214 4037]] 0.3827647361621342\n"
     ]
    }
   ],
   "source": [
    "predictors_columns = ['yearsofexperience','Age','Height','SAT','GPA']\n",
    "\n",
    "\n",
    "X_train, X_test, y_train, y_test = train_test_split(pay_Logit_data[predictors_columns], np.array(pay_Logit_data['totalyearlycompensation']).reshape(-1, 1), test_size=0.2,random_state = 0)\n",
    "\n",
    "# Define your logistic regression model\n",
    "model = LogisticRegression()\n",
    "\n",
    "# Train the model on the training data\n",
    "model.fit(X_train, y_train)\n",
    "y_pred = model.predict(X_test)\n",
    "\n",
    "# Test the model on the testing data\n",
    "acc = model.score(X_test, y_test)\n",
    "cm = confusion_matrix(y_test,y_pred)\n",
    "mcc = matthews_corrcoef(y_test, y_pred)\n",
    "print(\"Accuracy: {:.2f}%\".format(acc * 100))\n",
    "print(model.coef_)\n",
    "print(cm,mcc)"
   ]
  },
  {
   "attachments": {},
   "cell_type": "markdown",
   "metadata": {},
   "source": [
    "## Extra credit:\n",
    "## a) Is salary, height or age normally distributed? Does this surprise you? Why or why not?\n",
    "## b) Tell us something interesting about this dataset that is not already covered by the questions above and that is not obvious."
   ]
  },
  {
   "attachments": {},
   "cell_type": "markdown",
   "metadata": {},
   "source": [
    "## Extra Credit A\n",
    "\n",
    "Among all of the 3 variables, height is the only that is normally distributed, as it is a canonical example of the normal distribution given in textbooks. While salary and age are slightly skewed to the left. It is expected that on the case of salary, we will find a large frequency of salaries slightly below the mean, and the higher the salary gets, the lower the frequency. It is expected that age is also skewed in this case, because our data set is about work force. It is expected that the age group of 25 - 40 account for a larger percentage of the worke force. Therefore, there were no surprise given the assumptinos listed above.  \n"
   ]
  },
  {
   "cell_type": "code",
   "execution_count": null,
   "metadata": {},
   "outputs": [
    {
     "data": {
      "text/plain": [
       "<AxesSubplot:ylabel='Frequency'>"
      ]
     },
     "execution_count": 38,
     "metadata": {},
     "output_type": "execute_result"
    },
    {
     "data": {
      "image/png": "[encoded data removed]",
      "text/plain": [
       "<Figure size 432x288 with 1 Axes>"
      ]
     },
     "metadata": {
      "needs_background": "light"
     },
     "output_type": "display_data"
    }
   ],
   "source": [
    "main_data.totalyearlycompensation.plot.hist(bins=200)"
   ]
  },
  {
   "cell_type": "code",
   "execution_count": null,
   "metadata": {},
   "outputs": [
    {
     "data": {
      "text/plain": [
       "<AxesSubplot:ylabel='Frequency'>"
      ]
     },
     "execution_count": 42,
     "metadata": {},
     "output_type": "execute_result"
    },
    {
     "data": {
      "image/png": "[encoded data removed]",
      "text/plain": [
       "<Figure size 432x288 with 1 Axes>"
      ]
     },
     "metadata": {
      "needs_background": "light"
     },
     "output_type": "display_data"
    }
   ],
   "source": [
    "main_data.Height.plot.hist(bins=100)"
   ]
  },
  {
   "cell_type": "code",
   "execution_count": null,
   "metadata": {},
   "outputs": [
    {
     "data": {
      "text/plain": [
       "<AxesSubplot:ylabel='Frequency'>"
      ]
     },
     "execution_count": 43,
     "metadata": {},
     "output_type": "execute_result"
    },
    {
     "data": {
      "image/png": "[encoded data removed]",
      "text/plain": [
       "<Figure size 432x288 with 1 Axes>"
      ]
     },
     "metadata": {
      "needs_background": "light"
     },
     "output_type": "display_data"
    }
   ],
   "source": [
    "main_data.Age.plot.hist(bins=100)"
   ]
  },
  {
   "attachments": {},
   "cell_type": "markdown",
   "metadata": {},
   "source": [
    "## Extra Credit B\n",
    "\n",
    "Something interesting is that if we turn the Title, location and company columns(that are categorical variables) into numeric values, we probably could get a decent model for predicting high and low salaries. "
   ]
  },
  {
   "cell_type": "markdown",
   "metadata": {},
   "source": []
  }
 ],
 "metadata": {
  "kernelspec": {
   "display_name": "Python 3",
   "language": "python",
   "name": "python3"
  },
  "language_info": {
   "codemirror_mode": {
    "name": "ipython",
    "version": 3
   },
   "file_extension": ".py",
   "mimetype": "text/x-python",
   "name": "python",
   "nbconvert_exporter": "python",
   "pygments_lexer": "ipython3",
   "version": "3.8.5"
  },
  "orig_nbformat": 4,
  "vscode": {
   "interpreter": {
    "hash": "2a0f08725565d2d00e70b9fae99b105541271f7be4baa13607a6e77e1d2c8c73"
   }
  }
 },
 "nbformat": 4,
 "nbformat_minor": 2
}
