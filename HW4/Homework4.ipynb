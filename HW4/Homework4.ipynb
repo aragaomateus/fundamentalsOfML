{
 "cells": [
  {
   "attachments": {},
   "cell_type": "markdown",
   "metadata": {},
   "source": [
    "# Homework 4 \n",
    "\n",
    "Columns represent (in order):\n",
    "1) Diabetes status (1 = has been diagnosed with diabetes, 0 = has not)\n",
    "2) High blood pressure (1 = has been diagnosed with hypertension, 0 = has not)\n",
    "3) High cholesterol (1 = has been diagnosed with high cholesterol, 0 = has not)\n",
    "4) Body Mass Index (weight / height2)\n",
    "5) Smoker (1 = person has smoked more than 100 cigarettes in their life, 0 = has not)\n",
    "6) Stroke (1 = person has previously suffered a stroke, 0 = has not)\n",
    "7) Myocardial issues (1 = has previously had a heart attack, 0 = has not)\n",
    "8) Physically active (1 = person describes themselves as physically active, 0 = does not)\n",
    "9) Eats fruit (1 = person reports eating fruit at least once a day, 0 = does not)\n",
    "10) Eats vegetables (1 = person reports eating vegetables at least once a day, 0 = does not)\n",
    "11) Heavy Drinker (1 = consumes more drinks than the CDC threshold/week, 0 = does not)\n",
    "12) Has healthcare (1 = person has some kind of healthcare plan coverage, 0 = does not)\n",
    "13) NotAbleToAffordDoctor (1 = person needed to see the doctor within the last year, but\n",
    "could not afford to, 0 = did not)\n",
    "14) General health: Self-assessment of health status on a scale from 1 to 5\n",
    "15) Mental health: Days of poor mental health in the last 30 days (self-assessed)\n",
    "16) Physical health: Days of poor physical health in the last 30 days (self-assessed)\n",
    "17) Hard to climb stairs (1 = person reports difficulties in climbing stairs, 0 = does not)\n",
    "18) Biological sex (1 = male, 2 = female)\n",
    "19) Age bracket (1 = 18-24, 2 = 25-29, 3 = 30-34, 4 = 35-39, 5 = 40-44, 6 = 45-49, 7 = 50-54,\n",
    "8 = 55-59, 9 = 60-64, 10 = 65-69, 11 = 70-74, 12 = 75-79, 13 = 80+)\n",
    "20) Education bracket (terminal education is 1 = only kindergarten, 2 = elementary school,\n",
    "3 = some high school, 4 = GED, 5 = some college, 6 = college graduate)\n",
    "21) Income bracket (Annual income where 1 = below $10k, 8 = above $75k)\n",
    "22) Zodiac sign (Tropical calendar, 1 = Aries, 12 = Pisces, with everything else in between)"
   ]
  },
  {
   "attachments": {},
   "cell_type": "markdown",
   "metadata": {},
   "source": [
    "1. Build and train a Perceptron (one input layer, one output layer, no hidden layers and no activation functions) to classify diabetes from the rest of the dataset. What is the AUC of this model?"
   ]
  },
  {
   "cell_type": "code",
   "execution_count": null,
   "metadata": {},
   "outputs": [],
   "source": []
  },
  {
   "attachments": {},
   "cell_type": "markdown",
   "metadata": {},
   "source": [
    "2. Build and train a feedforward neural network with at least one hidden layer to classify diabetes from the rest of the dataset. Make sure to try different numbers of hidden layers and different activation functions (at a minimum reLU and sigmoid). Doing so: How does AUC vary as a function of the number of hidden layers and is it dependent on the kind of activation function used (make sure to include “no activation function” in your comparison). How does this network perform relative to the Perceptron?"
   ]
  },
  {
   "cell_type": "code",
   "execution_count": null,
   "metadata": {},
   "outputs": [],
   "source": []
  },
  {
   "attachments": {},
   "cell_type": "markdown",
   "metadata": {},
   "source": [
    "3. Build and train a “deep” network (at least 2 hidden layers) to classify diabetes from the rest of the dataset. Given the nature of this dataset, is there a benefit of using a CNN or RNN for the classification?"
   ]
  },
  {
   "cell_type": "code",
   "execution_count": null,
   "metadata": {},
   "outputs": [],
   "source": []
  },
  {
   "attachments": {},
   "cell_type": "markdown",
   "metadata": {},
   "source": [
    "4. Build and train a feedforward neural network with one hidden layer to predict BMI from the rest of the dataset. Use RMSE to assess the accuracy of your model. Does the RMSE depend on the activation function used?\n"
   ]
  },
  {
   "cell_type": "code",
   "execution_count": null,
   "metadata": {},
   "outputs": [],
   "source": []
  },
  {
   "attachments": {},
   "cell_type": "markdown",
   "metadata": {},
   "source": [
    "5. Build and train a neural network of your choice to predict BMI from the rest of your dataset. How low can you get RMSE and what design choices does RMSE seem to depend on?"
   ]
  },
  {
   "cell_type": "code",
   "execution_count": null,
   "metadata": {},
   "outputs": [],
   "source": []
  },
  {
   "attachments": {},
   "cell_type": "markdown",
   "metadata": {},
   "source": [
    "\n",
    "Extra credit:\n",
    "a) Are there any predictors/features that have effectively no impact on the accuracy of these\n",
    "models? If so, please list them and comment briefly on your findings\n",
    "b) Write a summary statement on the overall pros and cons of using neural networks to learn from the same dataset as in the prior homework, relative to using classical methods\n",
    "(logistic regression, SVM, trees, forests, boosting methods). Any overall lessons?"
   ]
  },
  {
   "cell_type": "code",
   "execution_count": null,
   "metadata": {},
   "outputs": [],
   "source": []
  }
 ],
 "metadata": {
  "language_info": {
   "name": "python"
  },
  "orig_nbformat": 4
 },
 "nbformat": 4,
 "nbformat_minor": 2
}
